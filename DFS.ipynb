{
 "cells": [
  {
   "cell_type": "code",
   "execution_count": 12,
   "metadata": {},
   "outputs": [
    {
     "name": "stdout",
     "output_type": "stream",
     "text": [
      "[[], [2, 7, 8], [1, 3, 6], [2, 4, 5], [3], [3], [2], [1], [1, 9, 12], [8, 10, 11], [9], [9], [8]]\n",
      "0 1 2 3 4 5 6 7 8 9 10 11 12 "
     ]
    }
   ],
   "source": [
    "#Iterative approach\n",
    "\n",
    "edges = [\n",
    "        # Notice that node 0 is unconnected\n",
    "        (1, 2), (1, 7), (1, 8), (2, 3), (2, 6), (3, 4),\n",
    "        (3, 5), (8, 9), (8, 12), (9, 10), (9, 11)\n",
    "    ]\n",
    "n = 13    \n",
    "class Graph:\n",
    "    \n",
    "    def __init__(self,edges,n):\n",
    "        self.lis = [[] for _ in range(n)]\n",
    "        for s,d in edges:\n",
    "            self.lis[s].append(d)\n",
    "            self.lis[d].append(s)\n",
    "        print(self.lis)\n",
    "        \n",
    "        \n",
    "def dfs(graph,a,discovered):\n",
    "    q=[]\n",
    "    discovered[a] = True\n",
    "    q.append(a)\n",
    "    while q:\n",
    "        \n",
    "        temp = q.pop()\n",
    "        print(temp, end = ' ')\n",
    "        \n",
    "\n",
    "        for z in reversed(graph.lis[temp]):\n",
    "            if not discovered[z]:\n",
    "                discovered[z] = True\n",
    "                q.append(z)\n",
    "                \n",
    "                \n",
    "            \n",
    "        \n",
    "        \n",
    "        \n",
    "        \n",
    "        \n",
    "        \n",
    "        \n",
    "if __name__ == '__main__':\n",
    "    discovered = [False] * n\n",
    "    graph = Graph(edges,n)\n",
    "    \n",
    "    for i in range(n):\n",
    "        if not discovered[i]:\n",
    "            dfs(graph,i,discovered)\n",
    "        \n",
    "        \n",
    "        \n",
    "        \n",
    "        \n",
    "        \n",
    "        \n",
    "        \n"
   ]
  },
  {
   "cell_type": "code",
   "execution_count": 14,
   "metadata": {},
   "outputs": [
    {
     "name": "stdout",
     "output_type": "stream",
     "text": [
      "[[], [2, 7, 8], [1, 3, 6], [2, 4, 5], [3], [3], [2], [1], [1, 9, 12], [8, 10, 11], [9], [9], [8]]\n",
      "0 1 2 3 4 5 6 7 8 9 10 11 12 "
     ]
    }
   ],
   "source": [
    "#Recursive approach\n",
    "\n",
    "edges = [\n",
    "        # Notice that node 0 is unconnected\n",
    "        (1, 2), (1, 7), (1, 8), (2, 3), (2, 6), (3, 4),\n",
    "        (3, 5), (8, 9), (8, 12), (9, 10), (9, 11)\n",
    "    ]\n",
    "n = 13    \n",
    "class Graph:\n",
    "    \n",
    "    def __init__(self,edges,n):\n",
    "        self.lis = [[] for _ in range(n)]\n",
    "        for s,d in edges:\n",
    "            self.lis[s].append(d)\n",
    "            self.lis[d].append(s)\n",
    "        print(self.lis)\n",
    "        \n",
    "        \n",
    "def dfs(graph,a,discovered):\n",
    "    q=[]\n",
    "    discovered[a] = True\n",
    "    q.append(a)\n",
    "        \n",
    "    temp = q.pop()\n",
    "    print(temp, end = ' ')\n",
    "\n",
    "\n",
    "    for z in graph.lis[temp]:\n",
    "        if not discovered[z]:\n",
    "            discovered[z] = True\n",
    "            q.append(z)\n",
    "            dfs(graph,z,discovered)\n",
    "                \n",
    "                \n",
    "            \n",
    "        \n",
    "        \n",
    "        \n",
    "        \n",
    "        \n",
    "        \n",
    "        \n",
    "if __name__ == '__main__':\n",
    "    discovered = [False] * n\n",
    "    graph = Graph(edges,n)\n",
    "    \n",
    "    for i in range(n):\n",
    "        if not discovered[i]:\n",
    "            dfs(graph,i,discovered)\n",
    "        \n",
    "        \n",
    "        \n",
    "        \n",
    "        "
   ]
  },
  {
   "cell_type": "code",
   "execution_count": null,
   "metadata": {},
   "outputs": [],
   "source": []
  }
 ],
 "metadata": {
  "kernelspec": {
   "display_name": "Python 3",
   "language": "python",
   "name": "python3"
  },
  "language_info": {
   "codemirror_mode": {
    "name": "ipython",
    "version": 3
   },
   "file_extension": ".py",
   "mimetype": "text/x-python",
   "name": "python",
   "nbconvert_exporter": "python",
   "pygments_lexer": "ipython3",
   "version": "3.7.6"
  }
 },
 "nbformat": 4,
 "nbformat_minor": 4
}
