{
 "cells": [
  {
   "cell_type": "code",
   "execution_count": 47,
   "metadata": {},
   "outputs": [
    {
     "name": "stdout",
     "output_type": "stream",
     "text": [
      "{'delhi': ['bangalore', 'chennai'], 'mumbai': ['bangalore'], 'bangalore': ['goa', 'punjab'], 'chennai': ['delhi', 'bangalore']}\n"
     ]
    },
    {
     "data": {
      "text/plain": [
       "['chennai', 'bangalore', 'punjab']"
      ]
     },
     "execution_count": 47,
     "metadata": {},
     "output_type": "execute_result"
    }
   ],
   "source": [
    "#Graph data structure Implementation\n",
    "class graph():\n",
    "    #constructing the graph datastructure\n",
    "    def __init__(self,edges):\n",
    "        self.edges = edges\n",
    "        self.graph = dict()\n",
    "        \n",
    "        for source,destination in edges:\n",
    "            if source in self.graph:\n",
    "                self.graph[source].append(destination)\n",
    "            else:\n",
    "                self.graph[source] = [destination]\n",
    "        print(self.graph)\n",
    "    \n",
    "    def get_path(self,source,destination,path=[]):\n",
    "        path = path + [source]\n",
    "\n",
    "        if source == destination:\n",
    "            return [path]\n",
    "        if source not in self.graph:\n",
    "            return []\n",
    "        \n",
    "        res=[]\n",
    "        for node in self.graph[source]:\n",
    "\n",
    "\n",
    "            if node not in path:\n",
    "                new_path = self.get_path(node,destination,path)\n",
    "                for p in new_path:\n",
    "                    res.append(p)\n",
    "        return res\n",
    "    \n",
    "    \n",
    "    def shortest_path(self,source,destination,path=[]):\n",
    "        path = path + [source]\n",
    "        if source == destination:\n",
    "            return path\n",
    "        elif source not in self.graph:\n",
    "            return []\n",
    "        spath = None\n",
    "        for node in self.graph[source]:\n",
    "            if node not in path:\n",
    "                s = self.shortest_path(node,destination,path)\n",
    "                if s:\n",
    "                    if spath is None or len(s)<len(spath):\n",
    "                        spath =s\n",
    "        return spath\n",
    "        \n",
    "        \n",
    "        \n",
    "routes = [(\"delhi\",\"bangalore\"),\n",
    "          (\"delhi\",\"chennai\"),\n",
    "          (\"mumbai\",\"bangalore\"),\n",
    "          (\"bangalore\",\"goa\"),\n",
    "          (\"bangalore\",\"punjab\"),\n",
    "         (\"chennai\",\"delhi\"),\n",
    "          (\"chennai\",\"bangalore\")\n",
    "         ]\n",
    "a = graph(routes)\n",
    "a.shortest_path(\"chennai\",\"punjab\")"
   ]
  },
  {
   "cell_type": "code",
   "execution_count": 91,
   "metadata": {},
   "outputs": [
    {
     "data": {
      "text/plain": [
       "7"
      ]
     },
     "execution_count": 91,
     "metadata": {},
     "output_type": "execute_result"
    }
   ],
   "source": [
    "#recursion \n",
    "def fibo(n):\n",
    "    if n == 1:\n",
    "        return 1\n",
    "    else:\n",
    "        return n-2 + fibo(n-1)\n",
    "\n",
    "a=fibo(5)\n",
    "a"
   ]
  },
  {
   "cell_type": "code",
   "execution_count": null,
   "metadata": {},
   "outputs": [],
   "source": []
  },
  {
   "cell_type": "code",
   "execution_count": null,
   "metadata": {},
   "outputs": [],
   "source": []
  }
 ],
 "metadata": {
  "kernelspec": {
   "display_name": "Python 3",
   "language": "python",
   "name": "python3"
  },
  "language_info": {
   "codemirror_mode": {
    "name": "ipython",
    "version": 3
   },
   "file_extension": ".py",
   "mimetype": "text/x-python",
   "name": "python",
   "nbconvert_exporter": "python",
   "pygments_lexer": "ipython3",
   "version": "3.7.6"
  }
 },
 "nbformat": 4,
 "nbformat_minor": 4
}
